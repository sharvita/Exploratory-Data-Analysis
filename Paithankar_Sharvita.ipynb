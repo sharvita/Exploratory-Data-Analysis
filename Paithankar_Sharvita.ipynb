{
 "cells": [
  {
   "cell_type": "markdown",
   "metadata": {},
   "source": [
    "## Last Name: Paithankar\n",
    "## First Name: Sharvita"
   ]
  },
  {
   "cell_type": "markdown",
   "metadata": {},
   "source": [
    "## CSCI 4580/5580 - Data Science – Fall 2020\n",
    "## Lab 2: Exploratory Data Analysis"
   ]
  },
  {
   "cell_type": "markdown",
   "metadata": {},
   "source": [
    "For this lab, we'll explore some data from a very useful source, the UC Irvine machine learning data repository.\n",
    "\n",
    "Go to https://archive.ics.uci.edu/ml/datasets/Heart+Disease\n",
    "and read the dataset description. \n",
    "\n",
    "Now dowload the dataset (processed.cleveland.data) from the Canvas and save it into the same directory as this notebook.\n",
    "\n",
    "Next, read the data into python and create a variable \"cleveland_raw_data\" which is a list of rows from this dataset. Each row should be a list of string values returned by the csv file reader."
   ]
  },
  {
   "cell_type": "code",
   "execution_count": 1,
   "metadata": {},
   "outputs": [
    {
     "name": "stdout",
     "output_type": "stream",
     "text": [
      "this data set has 303 rows. The 88th line is:['53.0', '0.0', '3.0', '128.0', '216.0', '0.0', '2.0', '115.0', '0.0', '0.0', '1.0', '0.0', '?', '0']\n"
     ]
    }
   ],
   "source": [
    "import csv\n",
    "\n",
    "with open(\"processed.cleveland.data\") as csvfile:\n",
    "    cleveland_raw_data = list(csv.reader(csvfile))    \n",
    "\n",
    "print(f'this data set has {len(cleveland_raw_data)} rows. The 88th line is:{cleveland_raw_data[87]}')"
   ]
  },
  {
   "cell_type": "markdown",
   "metadata": {},
   "source": [
    "## Data Cleaning"
   ]
  },
  {
   "cell_type": "markdown",
   "metadata": {},
   "source": [
    "First we have to clean and sanitize the data. This data is pretty clean and is mostly numeric but contains some '?' in some fields."
   ]
  },
  {
   "cell_type": "markdown",
   "metadata": {},
   "source": [
    "<b>Q1)</b> To make it easier to handle, we convert those fields to 'None'. For convenience, you should define a function \"safeFloat\" that takes a string argument, and returns None if the argument is '?', otherwise the float value of the string. [5 points]"
   ]
  },
  {
   "cell_type": "code",
   "execution_count": 3,
   "metadata": {},
   "outputs": [],
   "source": [
    "def safeFloat(x):   \n",
    "    # complete this function\n",
    "        if x == \"?\" :\n",
    "            return None;\n",
    "        else:\n",
    "            return float(x);\n",
    "    "
   ]
  },
  {
   "cell_type": "code",
   "execution_count": 107,
   "metadata": {},
   "outputs": [
    {
     "name": "stdout",
     "output_type": "stream",
     "text": [
      "[63.0, 1.0, 1.0, 145.0, 233.0, 1.0, 2.0, 150.0, 0.0, 2.3, 3.0, 0.0, 6.0, 0.0]\n"
     ]
    }
   ],
   "source": [
    "cleveland_data = [[safeFloat(x) for x in y] for y in cleveland_raw_data]\n",
    "cleveland_data[87]"
   ]
  },
  {
   "cell_type": "markdown",
   "metadata": {},
   "source": [
    "In the dataset summary, the following are the column names. "
   ]
  },
  {
   "cell_type": "code",
   "execution_count": 12,
   "metadata": {},
   "outputs": [
    {
     "name": "stdout",
     "output_type": "stream",
     "text": [
      "['age', 'sex', 'cp', 'trestbps', 'chol', 'fbs', 'restecg', 'thalach', 'exang', 'oldpeak', 'slope', 'ca', 'thal', 'num']\n"
     ]
    }
   ],
   "source": [
    "headers = ['age', 'sex', 'cp', 'trestbps', 'chol', 'fbs', 'restecg', 'thalach', 'exang', 'oldpeak', 'slope', 'ca', 'thal', 'num']\n",
    "print(headers)"
   ]
  },
  {
   "cell_type": "markdown",
   "metadata": {},
   "source": [
    "Now we construct a dictionary mapping these header names to the column numbers 0...13:"
   ]
  },
  {
   "cell_type": "code",
   "execution_count": 64,
   "metadata": {},
   "outputs": [
    {
     "name": "stdout",
     "output_type": "stream",
     "text": [
      "{'age': 0, 'sex': 1, 'cp': 2, 'trestbps': 3, 'chol': 4, 'fbs': 5, 'restecg': 6, 'thalach': 7, 'exang': 8, 'oldpeak': 9, 'slope': 10, 'ca': 11, 'thal': 12, 'num': 13}\n"
     ]
    }
   ],
   "source": [
    "headerIndexMap = dict(zip(headers, range(len(headers))))    \n",
    "print(headerIndexMap)"
   ]
  },
  {
   "cell_type": "code",
   "execution_count": null,
   "metadata": {},
   "outputs": [],
   "source": []
  },
  {
   "cell_type": "raw",
   "metadata": {},
   "source": [
    "Define a function \"getcol\" that takes a column name and returns the data in that column as a list of numbers. [5 points]"
   ]
  },
  {
   "cell_type": "code",
   "execution_count": 110,
   "metadata": {},
   "outputs": [],
   "source": [
    "import pandas as pd\n",
    "def getColumn(name): \n",
    "    # complete this funtion\n",
    "    index = headerIndexMap.get(name);\n",
    "    col = []\n",
    "    for i in cleveland_data:\n",
    "        col.append(i[index])\n",
    "    return col"
   ]
  },
  {
   "cell_type": "code",
   "execution_count": 111,
   "metadata": {},
   "outputs": [
    {
     "name": "stdout",
     "output_type": "stream",
     "text": [
      "[63.0, 67.0, 67.0, 37.0, 41.0, 56.0, 62.0, 57.0, 63.0, 53.0, 57.0, 56.0, 56.0, 44.0, 52.0, 57.0, 48.0, 54.0, 48.0, 49.0, 64.0, 58.0, 58.0, 58.0, 60.0, 50.0, 58.0, 66.0, 43.0, 40.0, 69.0, 60.0, 64.0, 59.0, 44.0, 42.0, 43.0, 57.0, 55.0, 61.0, 65.0, 40.0, 71.0, 59.0, 61.0, 58.0, 51.0, 50.0, 65.0, 53.0, 41.0, 65.0, 44.0, 44.0, 60.0, 54.0, 50.0, 41.0, 54.0, 51.0, 51.0, 46.0, 58.0, 54.0, 54.0, 60.0, 60.0, 54.0, 59.0, 46.0, 65.0, 67.0, 62.0, 65.0, 44.0, 65.0, 60.0, 51.0, 48.0, 58.0, 45.0, 53.0, 39.0, 68.0, 52.0, 44.0, 47.0, 53.0, 53.0, 51.0, 66.0, 62.0, 62.0, 44.0, 63.0, 52.0, 59.0, 60.0, 52.0, 48.0, 45.0, 34.0, 57.0, 71.0, 49.0, 54.0, 59.0, 57.0, 61.0, 39.0, 61.0, 56.0, 52.0, 43.0, 62.0, 41.0, 58.0, 35.0, 63.0, 65.0, 48.0, 63.0, 51.0, 55.0, 65.0, 45.0, 56.0, 54.0, 44.0, 62.0, 54.0, 51.0, 29.0, 51.0, 43.0, 55.0, 70.0, 62.0, 35.0, 51.0, 59.0, 59.0, 52.0, 64.0, 58.0, 47.0, 57.0, 41.0, 45.0, 60.0, 52.0, 42.0, 67.0, 55.0, 64.0, 70.0, 51.0, 58.0, 60.0, 68.0, 46.0, 77.0, 54.0, 58.0, 48.0, 57.0, 52.0, 54.0, 35.0, 45.0, 70.0, 53.0, 59.0, 62.0, 64.0, 57.0, 52.0, 56.0, 43.0, 53.0, 48.0, 56.0, 42.0, 59.0, 60.0, 63.0, 42.0, 66.0, 54.0, 69.0, 50.0, 51.0, 43.0, 62.0, 68.0, 67.0, 69.0, 45.0, 50.0, 59.0, 50.0, 64.0, 57.0, 64.0, 43.0, 45.0, 58.0, 50.0, 55.0, 62.0, 37.0, 38.0, 41.0, 66.0, 52.0, 56.0, 46.0, 46.0, 64.0, 59.0, 41.0, 54.0, 39.0, 53.0, 63.0, 34.0, 47.0, 67.0, 54.0, 66.0, 52.0, 55.0, 49.0, 74.0, 54.0, 54.0, 56.0, 46.0, 49.0, 42.0, 41.0, 41.0, 49.0, 61.0, 60.0, 67.0, 58.0, 47.0, 52.0, 62.0, 57.0, 58.0, 64.0, 51.0, 43.0, 42.0, 67.0, 76.0, 70.0, 57.0, 44.0, 58.0, 60.0, 44.0, 61.0, 42.0, 52.0, 59.0, 40.0, 42.0, 61.0, 66.0, 46.0, 71.0, 59.0, 64.0, 66.0, 39.0, 57.0, 58.0, 57.0, 47.0, 55.0, 35.0, 61.0, 58.0, 58.0, 58.0, 56.0, 56.0, 67.0, 55.0, 44.0, 63.0, 63.0, 41.0, 59.0, 57.0, 45.0, 68.0, 57.0, 57.0, 38.0]\n"
     ]
    }
   ],
   "source": [
    "print(getColumn('age'))"
   ]
  },
  {
   "cell_type": "markdown",
   "metadata": {},
   "source": [
    "## Basic Statistics"
   ]
  },
  {
   "cell_type": "markdown",
   "metadata": {},
   "source": [
    "What is the minimum, maximum, mean and standard deviation of the age of this set of subjects? Use the numpy package with contains the mean() and std() functions. "
   ]
  },
  {
   "cell_type": "code",
   "execution_count": 112,
   "metadata": {},
   "outputs": [
    {
     "data": {
      "text/plain": [
       "[29.0, 77.0, 54.43894389438944, 9.02373483119838]"
      ]
     },
     "execution_count": 112,
     "metadata": {},
     "output_type": "execute_result"
    }
   ],
   "source": [
    "import numpy as np\n",
    "age = getColumn('age')\n",
    "[min(age), max(age), np.mean(age), np.std(age)]"
   ]
  },
  {
   "cell_type": "markdown",
   "metadata": {},
   "source": [
    "<b>Q3)</b> Next, define a function named \"select\" which given a column name and a predicate, returns the values of that column at rows for which the predicate is true. Each predicate is a tuple of two elemetns, where the first element is the column name, and the second element is the filter value. For example select('age', ('sex', 0)), returns the age of subjects with sex=0 (the female subjects). [15 points] "
   ]
  },
  {
   "cell_type": "code",
   "execution_count": 146,
   "metadata": {},
   "outputs": [],
   "source": [
    "def select(columnName, predicate):\n",
    "    index = headerIndexMap.get(columnName);\n",
    "    predIndex = headerIndexMap.get(predicate[0])\n",
    "    col = []\n",
    "    for i in cleveland_data:\n",
    "        if i[predIndex] == predicate[1]:\n",
    "            col.append(i[index])\n",
    "    return col"
   ]
  },
  {
   "cell_type": "code",
   "execution_count": 145,
   "metadata": {},
   "outputs": [
    {
     "name": "stdout",
     "output_type": "stream",
     "text": [
      "[63.0, 67.0, 67.0, 37.0, 56.0, 63.0, 53.0, 57.0, 56.0, 44.0, 52.0, 57.0, 48.0, 54.0, 49.0, 64.0, 58.0, 58.0, 60.0, 43.0, 40.0, 60.0, 64.0, 59.0, 44.0, 42.0, 43.0, 57.0, 55.0, 61.0, 40.0, 59.0, 58.0, 51.0, 50.0, 53.0, 65.0, 44.0, 44.0, 60.0, 54.0, 50.0, 41.0, 54.0, 51.0, 58.0, 54.0, 60.0, 60.0, 54.0, 59.0, 46.0, 67.0, 62.0, 65.0, 44.0, 60.0, 48.0, 58.0, 45.0, 39.0, 68.0, 52.0, 44.0, 47.0, 66.0, 62.0, 52.0, 59.0, 52.0, 48.0, 45.0, 34.0, 49.0, 54.0, 59.0, 57.0, 61.0, 39.0, 56.0, 52.0, 41.0, 58.0, 63.0, 65.0, 48.0, 51.0, 55.0, 65.0, 54.0, 44.0, 54.0, 51.0, 29.0, 51.0, 70.0, 62.0, 35.0, 51.0, 59.0, 59.0, 52.0, 64.0, 58.0, 47.0, 57.0, 41.0, 45.0, 52.0, 55.0, 64.0, 70.0, 51.0, 58.0, 60.0, 68.0, 46.0, 77.0, 48.0, 57.0, 52.0, 35.0, 70.0, 53.0, 64.0, 57.0, 52.0, 56.0, 43.0, 53.0, 48.0, 42.0, 59.0, 42.0, 66.0, 54.0, 69.0, 50.0, 51.0, 43.0, 67.0, 69.0, 59.0, 57.0, 43.0, 45.0, 58.0, 50.0, 55.0, 38.0, 41.0, 52.0, 56.0, 59.0, 53.0, 47.0, 54.0, 66.0, 49.0, 54.0, 56.0, 46.0, 42.0, 41.0, 61.0, 67.0, 58.0, 47.0, 52.0, 62.0, 57.0, 58.0, 64.0, 43.0, 70.0, 57.0, 44.0, 61.0, 42.0, 52.0, 59.0, 40.0, 42.0, 61.0, 66.0, 46.0, 59.0, 64.0, 57.0, 57.0, 47.0, 35.0, 61.0, 58.0, 58.0, 56.0, 56.0, 67.0, 44.0, 63.0, 41.0, 59.0, 45.0, 68.0, 57.0, 38.0]\n"
     ]
    }
   ],
   "source": [
    "print(select('age', ('sex',1))) # returns the age of male subjecs"
   ]
  },
  {
   "cell_type": "markdown",
   "metadata": {},
   "source": [
    "<b>Q4)</b> Now use the np package and the select function and display the mean age of male and female subjects [15 points]"
   ]
  },
  {
   "cell_type": "code",
   "execution_count": 165,
   "metadata": {},
   "outputs": [
    {
     "name": "stdout",
     "output_type": "stream",
     "text": [
      "average male age=53.83495145631068\n",
      "average female age=55.72164948453608\n"
     ]
    }
   ],
   "source": [
    "import numpy as np\n",
    "male_age = np.mean(select('age', ('sex',1)))\n",
    "female_age = np.mean(select('age', ('sex',0)))\n",
    "print(f'average male age={male_age}\\naverage female age={female_age}')"
   ]
  },
  {
   "cell_type": "markdown",
   "metadata": {},
   "source": [
    "## Histograms of Data Fields"
   ]
  },
  {
   "cell_type": "markdown",
   "metadata": {},
   "source": [
    "Plot the histograms of age."
   ]
  },
  {
   "cell_type": "code",
   "execution_count": 172,
   "metadata": {},
   "outputs": [
    {
     "data": {
      "image/png": "[encoded data removed]",
      "text/plain": [
       "<Figure size 432x288 with 1 Axes>"
      ]
     },
     "metadata": {
      "needs_background": "light"
     },
     "output_type": "display_data"
    }
   ],
   "source": [
    "import matplotlib.pyplot as plt\n",
    "plt.hist(age, 30)\n",
    "plt.show()"
   ]
  },
  {
   "cell_type": "markdown",
   "metadata": {},
   "source": [
    "<b>Q5)</b> now plot the histogram of resting blood pressure (trestbps). [5 points]"
   ]
  },
  {
   "cell_type": "code",
   "execution_count": 177,
   "metadata": {},
   "outputs": [
    {
     "data": {
      "image/png": "[encoded data removed]",
      "text/plain": [
       "<Figure size 432x288 with 1 Axes>"
      ]
     },
     "metadata": {
      "needs_background": "light"
     },
     "output_type": "display_data"
    }
   ],
   "source": [
    "import matplotlib.pyplot as plt\n",
    "TBS= getColumn('trestbps')\n",
    "plt.hist(TBS, 100)\n",
    "plt.show()"
   ]
  },
  {
   "cell_type": "markdown",
   "metadata": {},
   "source": [
    "## Scatter Plots"
   ]
  },
  {
   "cell_type": "markdown",
   "metadata": {},
   "source": [
    "Make scatter plot of age vs bp (resting blood pressure) "
   ]
  },
  {
   "cell_type": "code",
   "execution_count": 178,
   "metadata": {},
   "outputs": [
    {
     "data": {
      "image/png": "[encoded data removed]",
      "text/plain": [
       "<Figure size 432x288 with 1 Axes>"
      ]
     },
     "metadata": {
      "needs_background": "light"
     },
     "output_type": "display_data"
    }
   ],
   "source": [
    "TBS= getColumn('trestbps')\n",
    "plt.scatter(age, TBS)\n",
    "plt.xlabel('age')\n",
    "plt.ylabel('blood pressure')\n",
    "plt.show()"
   ]
  },
  {
   "cell_type": "markdown",
   "metadata": {},
   "source": [
    "<b>Q6)</b> Make scatter plot of age vs thalach (max heart rate) [5 points]"
   ]
  },
  {
   "cell_type": "code",
   "execution_count": 179,
   "metadata": {},
   "outputs": [
    {
     "data": {
      "image/png": "[encoded data removed]",
      "text/plain": [
       "<Figure size 432x288 with 1 Axes>"
      ]
     },
     "metadata": {
      "needs_background": "light"
     },
     "output_type": "display_data"
    }
   ],
   "source": [
    "# add your code here\n",
    "thalach= getColumn('thalach')\n",
    "plt.scatter(age, thalach)\n",
    "plt.xlabel('age')\n",
    "plt.ylabel('thalach')\n",
    "plt.show()"
   ]
  },
  {
   "cell_type": "markdown",
   "metadata": {},
   "source": [
    "We can augment the basic scatter plots with other information that might be relevant. In the plot below, we used the 'num' field to color the dots. num is an integer indicating the degree of heart disease from 0...4. We also make the dots larger with the s= argument to make the colors easier to see. "
   ]
  },
  {
   "cell_type": "code",
   "execution_count": 184,
   "metadata": {},
   "outputs": [
    {
     "data": {
      "image/png": "[encoded data removed]",
      "text/plain": [
       "<Figure size 432x288 with 1 Axes>"
      ]
     },
     "metadata": {
      "needs_background": "light"
     },
     "output_type": "display_data"
    }
   ],
   "source": [
    "bps= getColumn('trestbps')\n",
    "plt.scatter(age, bps, c=getColumn('num'), s=50)\n",
    "plt.xlabel('age')\n",
    "plt.ylabel('blood pressure')\n",
    "plt.show()"
   ]
  },
  {
   "cell_type": "markdown",
   "metadata": {},
   "source": [
    "To figure out what color encodes what value, we can do a simple plot of the values 0...4"
   ]
  },
  {
   "cell_type": "code",
   "execution_count": 181,
   "metadata": {},
   "outputs": [
    {
     "data": {
      "image/png": "[encoded data removed]",
      "text/plain": [
       "<Figure size 432x288 with 1 Axes>"
      ]
     },
     "metadata": {
      "needs_background": "light"
     },
     "output_type": "display_data"
    }
   ],
   "source": [
    "plt.scatter(range(5), range(5), c=range(5), s=50)\n",
    "plt.show()"
   ]
  },
  {
   "cell_type": "markdown",
   "metadata": {},
   "source": [
    "<b>Q7)</b> Now use the select function and draw a scatter plot for age vs blood pressure only for the patients with num=2. [20 points]"
   ]
  },
  {
   "cell_type": "code",
   "execution_count": 192,
   "metadata": {},
   "outputs": [
    {
     "data": {
      "image/png": "[encoded data removed]",
      "text/plain": [
       "<Figure size 432x288 with 1 Axes>"
      ]
     },
     "metadata": {
      "needs_background": "light"
     },
     "output_type": "display_data"
    }
   ],
   "source": [
    "# add your code here\n",
    "age= select('age', ('num', 2))\n",
    "bps= select('trestbps', ('num', 2))\n",
    "plt.scatter(age, bps)\n",
    "plt.xlabel('age')\n",
    "plt.ylabel('blood pressure')\n",
    "plt.show()"
   ]
  },
  {
   "cell_type": "markdown",
   "metadata": {},
   "source": [
    "These scatter plots seem to show trends. To make those clearer we can overlay regression lines. The regression line minimizes the total squared vertical distance from the line to the data points, and shows the general trend for the data. "
   ]
  },
  {
   "cell_type": "code",
   "execution_count": 194,
   "metadata": {},
   "outputs": [
    {
     "data": {
      "image/png": "[encoded data removed]",
      "text/plain": [
       "<Figure size 432x288 with 1 Axes>"
      ]
     },
     "metadata": {
      "needs_background": "light"
     },
     "output_type": "display_data"
    }
   ],
   "source": [
    "# for numpy we need arrays instead of lists of values\n",
    "age = np.array(getColumn('age'))\n",
    "bps = np.array(getColumn('trestbps'))\n",
    "\n",
    "plt.scatter(age, bps)\n",
    "plt.xlabel('age')\n",
    "plt.ylabel('bps')\n",
    "m, b = np.polyfit(age, bps, 1)\n",
    "plt.plot(age, m*age + b, '-', color='red')\n",
    "plt.show()"
   ]
  },
  {
   "cell_type": "markdown",
   "metadata": {},
   "source": [
    "<b>Q8)</b> Now draw a scatter plot for age vs max heart rate and add the regression line.[5 points]"
   ]
  },
  {
   "cell_type": "code",
   "execution_count": 201,
   "metadata": {},
   "outputs": [
    {
     "data": {
      "image/png": "[encoded data removed]",
      "text/plain": [
       "<Figure size 432x288 with 1 Axes>"
      ]
     },
     "metadata": {
      "needs_background": "light"
     },
     "output_type": "display_data"
    }
   ],
   "source": [
    "# add your code here\n",
    "age = np.array(getColumn('age'))\n",
    "bps = np.array(getColumn('thalach'))\n",
    "\n",
    "plt.scatter(age, bps)\n",
    "plt.xlabel('age')\n",
    "plt.ylabel('thalach')\n",
    "m, b = np.polyfit(age, bps, 1)\n",
    "plt.plot(age, m*age + b, '-', color='red')\n",
    "plt.show()"
   ]
  },
  {
   "cell_type": "markdown",
   "metadata": {},
   "source": [
    "## Critical Thinking with Data"
   ]
  },
  {
   "cell_type": "markdown",
   "metadata": {},
   "source": [
    "The following scatter plot and regression line shows the relationship between blood pressure (X-axis) and heart disease (Y-axis). "
   ]
  },
  {
   "cell_type": "code",
   "execution_count": 195,
   "metadata": {},
   "outputs": [
    {
     "data": {
      "image/png": "[encoded data removed]",
      "text/plain": [
       "<Figure size 432x288 with 1 Axes>"
      ]
     },
     "metadata": {
      "needs_background": "light"
     },
     "output_type": "display_data"
    }
   ],
   "source": [
    "num = np.array(getColumn('num'))\n",
    "factor = bps\n",
    "\n",
    "plt.scatter(factor, num)\n",
    "plt.xlabel('blood pressure')\n",
    "plt.ylabel('heart disease')\n",
    "m, b = np.polyfit(factor, num, 1)\n",
    "plt.plot(factor, m*factor + b, '-', color='red')\n",
    "plt.show()"
   ]
  },
  {
   "cell_type": "markdown",
   "metadata": {},
   "source": [
    "Now consider this plot of age versus num:"
   ]
  },
  {
   "cell_type": "code",
   "execution_count": 196,
   "metadata": {},
   "outputs": [
    {
     "data": {
      "image/png": "[encoded data removed]",
      "text/plain": [
       "<Figure size 432x288 with 1 Axes>"
      ]
     },
     "metadata": {
      "needs_background": "light"
     },
     "output_type": "display_data"
    }
   ],
   "source": [
    "num = np.array(getColumn('num'))\n",
    "factor = age\n",
    "\n",
    "plt.scatter(factor, num)\n",
    "plt.xlabel('age')\n",
    "plt.ylabel('heart disease')\n",
    "m, b = np.polyfit(factor, num, 1)\n",
    "plt.plot(factor, m*factor + b, '-', color='red')\n",
    "plt.show()"
   ]
  },
  {
   "cell_type": "markdown",
   "metadata": {},
   "source": [
    "<b>Q9)</b> Based on the above plots, what's the overall effect of age and bps on heart disease? [5 points]\n",
    "<br/>Answer: Based on the above plots, it can be concluded that the higher the age and bps, the more chances of having a heart disease. Since the heart diseases increase as the age increses and the the higher the blood pressure, the more the heart diseases, we can definitely say that the higher the age/bps, the more chances of having a heart disease."
   ]
  },
  {
   "cell_type": "markdown",
   "metadata": {},
   "source": [
    "## Dimensionality Reduction"
   ]
  },
  {
   "cell_type": "markdown",
   "metadata": {},
   "source": [
    "Recall that dimensionality reduction allows you to look at the dominant factors in high-dimensional data. Matplotlib includes the PCA function for this purpose. You use it like this:"
   ]
  },
  {
   "cell_type": "code",
   "execution_count": 198,
   "metadata": {},
   "outputs": [],
   "source": [
    "from sklearn import decomposition\n",
    "cleveland_matrix = np.array(cleveland_data, dtype=np.float64) # First put the data in a 2D array of double-precision floats\n",
    "pca = decomposition.PCA(n_components=2)\n",
    "pcs = pca.fit_transform(cleveland_matrix[:,0:8]) # leave out columns with None in them"
   ]
  },
  {
   "cell_type": "code",
   "execution_count": null,
   "metadata": {},
   "outputs": [],
   "source": []
  },
  {
   "cell_type": "markdown",
   "metadata": {},
   "source": [
    "<b>Q10)</b> In order to see the relationship between the two main principal components, draw a scatter plot and add the regression line. [10 points]"
   ]
  },
  {
   "cell_type": "code",
   "execution_count": 202,
   "metadata": {},
   "outputs": [
    {
     "data": {
      "image/png": "[encoded data removed]",
      "text/plain": [
       "<Figure size 432x288 with 1 Axes>"
      ]
     },
     "metadata": {
      "needs_background": "light"
     },
     "output_type": "display_data"
    }
   ],
   "source": [
    "# add your code here\n",
    "x =[]\n",
    "y =[]\n",
    "for i in pcs:\n",
    "    x.append(i[0])\n",
    "    y.append(i[1])\n",
    "yArray = np.array(y)\n",
    "plt.scatter(x,y)\n",
    "plt.xlabel('pcs[0]')\n",
    "plt.xlabel('pcs[1]')\n",
    "m, b = np.polyfit(x,y,1)\n",
    "plt.plot(x,m*yArray +b, '-', color = 'red')\n",
    "plt.show()"
   ]
  },
  {
   "cell_type": "markdown",
   "metadata": {},
   "source": [
    "## Text Data Processing"
   ]
  },
  {
   "cell_type": "markdown",
   "metadata": {},
   "source": [
    "Download the NY times Dataset from Canvas and save it to the same directory as this notebook.\n",
    "\n",
    "This file has 3 header lines: num docs, num distinct words, num total words. The following lines represent the documents with three fields:\n",
    "\n",
    "> docid wordid wordcount\n",
    "\n",
    "We can read the file with a csv reader:"
   ]
  },
  {
   "cell_type": "code",
   "execution_count": null,
   "metadata": {},
   "outputs": [],
   "source": [
    "with open(\"docword.nips.txt\") as csvfile:\n",
    "    ndocs = int(csvfile.readline())\n",
    "    nwords = int(csvfile.readline())\n",
    "    nnz = int(csvfile.readline())\n",
    "    nips_raw_data = list(csv.reader(csvfile, delimiter=' '))\n",
    "    \n",
    "nips_data = [[int(x) for x in y] for y in nips_raw_data] # convert from string to numeric data"
   ]
  },
  {
   "cell_type": "code",
   "execution_count": null,
   "metadata": {},
   "outputs": [],
   "source": [
    "[ndocs, nwords, nnz]"
   ]
  },
  {
   "cell_type": "markdown",
   "metadata": {},
   "source": [
    "Now we're going to create an array 'counts' containing the counts for each word over all documents. Note that we use 'row[1]-1' as the index. The docword files use 1-based array indexing, but python uses zero-based indexing. "
   ]
  },
  {
   "cell_type": "code",
   "execution_count": null,
   "metadata": {},
   "outputs": [],
   "source": [
    "counts = [0] * nwords\n",
    "for row in nips_data:\n",
    "    counts[row[1]-1] += row[2] # increment the count for this word by the value in the third column"
   ]
  },
  {
   "cell_type": "markdown",
   "metadata": {},
   "source": [
    "Next we zip the word index as the first column, and sort this table by word count in descending order."
   ]
  },
  {
   "cell_type": "code",
   "execution_count": null,
   "metadata": {},
   "outputs": [],
   "source": [
    "import operator\n",
    "wordtab = list(zip(range(nwords), counts))\n",
    "wordtab.sort(key=lambda x: x[1], reverse=True)"
   ]
  },
  {
   "cell_type": "markdown",
   "metadata": {},
   "source": [
    "The top (first) values in this list are the most frequent word ids (first column), and their counts (second column):"
   ]
  },
  {
   "cell_type": "code",
   "execution_count": null,
   "metadata": {},
   "outputs": [],
   "source": [
    "wordtab[0:8]"
   ]
  },
  {
   "cell_type": "markdown",
   "metadata": {},
   "source": [
    "Now grab the vocabulary file for nips from Canvas and save it to the same directory as this notebook.\n",
    "Run the following to load it and create a dictionary (word -> wordid) and inverse dictionary (wordid -> word) from it. "
   ]
  },
  {
   "cell_type": "code",
   "execution_count": null,
   "metadata": {},
   "outputs": [],
   "source": [
    "mydict = {}            # word dictionary\n",
    "words = [''] * nwords  # invese dictionary - just an array of strings\n",
    "i = 0\n",
    "with open(\"vocab.nips.txt\") as txtfile:\n",
    "    for line in txtfile:\n",
    "        word = line.rstrip('\\n')\n",
    "        mydict[word] = i\n",
    "        words[i] = word\n",
    "        i += 1"
   ]
  },
  {
   "cell_type": "markdown",
   "metadata": {},
   "source": [
    "Now we can find the top words using the inverse dictionary:"
   ]
  },
  {
   "cell_type": "code",
   "execution_count": null,
   "metadata": {},
   "outputs": [],
   "source": [
    "topwords = [words[x] for x,y in wordtab[0:10]]\n",
    "topwords"
   ]
  },
  {
   "cell_type": "markdown",
   "metadata": {},
   "source": [
    "<b>Q11)</b>: What do you think is the topic of the NIPS dataset? [5 points]\n",
    "<br/>Answer: The top words are : network, model, learning, function, input, neural, set, algorithm, system and data. I beleieve that these are words are related to NIPS(Neural Information Processing Systems). The way this algorithm runs is a way of writing a machine learning algorithm. "
   ]
  },
  {
   "cell_type": "markdown",
   "metadata": {},
   "source": [
    "Finally, we can plot the counts words in rank order (decreasing order of frequency)."
   ]
  },
  {
   "cell_type": "code",
   "execution_count": null,
   "metadata": {},
   "outputs": [],
   "source": [
    "scounts = [y for x,y in wordtab]\n",
    "plt.plot(scounts)\n",
    "plt.show()"
   ]
  },
  {
   "cell_type": "markdown",
   "metadata": {},
   "source": [
    "What form does this curve have?\n",
    "To make it clearer, lets do a log-log plot."
   ]
  },
  {
   "cell_type": "code",
   "execution_count": 203,
   "metadata": {},
   "outputs": [
    {
     "ename": "NameError",
     "evalue": "name 'scounts' is not defined",
     "output_type": "error",
     "traceback": [
      "\u001b[0;31m---------------------------------------------------------------------------\u001b[0m",
      "\u001b[0;31mNameError\u001b[0m                                 Traceback (most recent call last)",
      "\u001b[0;32m<ipython-input-203-d840865d0209>\u001b[0m in \u001b[0;36m<module>\u001b[0;34m\u001b[0m\n\u001b[0;32m----> 1\u001b[0;31m \u001b[0mplt\u001b[0m\u001b[0;34m.\u001b[0m\u001b[0mloglog\u001b[0m\u001b[0;34m(\u001b[0m\u001b[0mscounts\u001b[0m\u001b[0;34m)\u001b[0m\u001b[0;34m\u001b[0m\u001b[0;34m\u001b[0m\u001b[0m\n\u001b[0m\u001b[1;32m      2\u001b[0m \u001b[0mplt\u001b[0m\u001b[0;34m.\u001b[0m\u001b[0mshow\u001b[0m\u001b[0;34m(\u001b[0m\u001b[0;34m)\u001b[0m\u001b[0;34m\u001b[0m\u001b[0;34m\u001b[0m\u001b[0m\n",
      "\u001b[0;31mNameError\u001b[0m: name 'scounts' is not defined"
     ]
    }
   ],
   "source": [
    "plt.loglog(scounts)\n",
    "plt.show()"
   ]
  },
  {
   "cell_type": "code",
   "execution_count": null,
   "metadata": {},
   "outputs": [],
   "source": []
  },
  {
   "cell_type": "code",
   "execution_count": null,
   "metadata": {},
   "outputs": [],
   "source": []
  }
 ],
 "metadata": {
  "kernelspec": {
   "display_name": "Python 3",
   "language": "python",
   "name": "python3"
  },
  "language_info": {
   "codemirror_mode": {
    "name": "ipython",
    "version": 3
   },
   "file_extension": ".py",
   "mimetype": "text/x-python",
   "name": "python",
   "nbconvert_exporter": "python",
   "pygments_lexer": "ipython3",
   "version": "3.8.3"
  },
  "widgets": {
   "application/vnd.jupyter.widget-state+json": {
    "state": {},
    "version_major": 2,
    "version_minor": 0
   }
  }
 },
 "nbformat": 4,
 "nbformat_minor": 1
}
